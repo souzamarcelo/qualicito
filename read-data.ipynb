{
 "cells": [
  {
   "cell_type": "markdown",
   "metadata": {},
   "source": [
    "# Análise da qualidade de laboratórios de citopatologia\n",
    "## Leitura dos dados\n",
    "\n",
    "+ Período: 2015 a 2019\n",
    "+ Local: Paraná, Brasil (análise específica de Guarapuava, PR)\n",
    "+ Autor: Taize Branco dos Santos"
   ]
  },
  {
   "cell_type": "code",
   "execution_count": 1,
   "metadata": {},
   "outputs": [],
   "source": [
    "import pandas as pd\n",
    "import analysis"
   ]
  },
  {
   "cell_type": "markdown",
   "metadata": {},
   "source": [
    "## 1. Leitura dos dados e cálculo dos índices de qualidade\n",
    "\n",
    "Os índices considerados são:\n",
    "+ Índice de positividade\n",
    "+ Percentual ASC satisfatórios\n",
    "+ Percentual ASC alterados\n",
    "+ Razão ASC/SIL\n",
    "+ Percentual insatisfatórios\n",
    "\n",
    "**Filtro:** laboratório é excluído da análise se em algum ano realizou menos de `minEx` exames."
   ]
  },
  {
   "cell_type": "code",
   "execution_count": 16,
   "metadata": {},
   "outputs": [],
   "source": [
    "anos = [2015, 2016, 2017, 2018, 2019]\n",
    "minEx = 1500\n",
    "dadosGuarapuava = analysis.readData('guarapuava', anos, minEx)\n",
    "dadosParana = analysis.readData('parana', anos, minEx)"
   ]
  },
  {
   "cell_type": "markdown",
   "metadata": {},
   "source": [
    "## 2. Apresentação dos dados\n",
    "\n",
    "Mostrando o prestador de serviço, ano e os índices de qualidade.\n",
    "\n",
    "### A. Guarapuava\n",
    "\n",
    "Mostrando os cinco primeiros laboratórios da tabela."
   ]
  },
  {
   "cell_type": "code",
   "execution_count": 17,
   "metadata": {
    "scrolled": true
   },
   "outputs": [
    {
     "data": {
      "text/html": [
       "<div>\n",
       "<style scoped>\n",
       "    .dataframe tbody tr th:only-of-type {\n",
       "        vertical-align: middle;\n",
       "    }\n",
       "\n",
       "    .dataframe tbody tr th {\n",
       "        vertical-align: top;\n",
       "    }\n",
       "\n",
       "    .dataframe thead th {\n",
       "        text-align: right;\n",
       "    }\n",
       "</style>\n",
       "<table border=\"1\" class=\"dataframe\">\n",
       "  <thead>\n",
       "    <tr style=\"text-align: right;\">\n",
       "      <th></th>\n",
       "      <th>prestador</th>\n",
       "      <th>ano</th>\n",
       "      <th>indice_positividade</th>\n",
       "      <th>percentual_asc_sat</th>\n",
       "      <th>percentual_asc_alt</th>\n",
       "      <th>razao_asc_sil</th>\n",
       "      <th>percentual_insatisfatorio</th>\n",
       "    </tr>\n",
       "  </thead>\n",
       "  <tbody>\n",
       "    <tr>\n",
       "      <th>1</th>\n",
       "      <td>6794858 CENTRO DE APOIO EM PATOLOGIA DE GUARAP...</td>\n",
       "      <td>2015</td>\n",
       "      <td>3.633630</td>\n",
       "      <td>1.879464</td>\n",
       "      <td>51.724138</td>\n",
       "      <td>1.351351</td>\n",
       "      <td>0.137638</td>\n",
       "    </tr>\n",
       "    <tr>\n",
       "      <th>4</th>\n",
       "      <td>6794858 CENTRO DE APOIO EM PATOLOGIA DE GUARAP...</td>\n",
       "      <td>2016</td>\n",
       "      <td>4.120657</td>\n",
       "      <td>2.329653</td>\n",
       "      <td>56.535948</td>\n",
       "      <td>1.544643</td>\n",
       "      <td>0.040382</td>\n",
       "    </tr>\n",
       "    <tr>\n",
       "      <th>6</th>\n",
       "      <td>6794858 CENTRO DE APOIO EM PATOLOGIA DE GUARAP...</td>\n",
       "      <td>2017</td>\n",
       "      <td>2.692193</td>\n",
       "      <td>1.450793</td>\n",
       "      <td>53.888889</td>\n",
       "      <td>1.405797</td>\n",
       "      <td>0.164253</td>\n",
       "    </tr>\n",
       "    <tr>\n",
       "      <th>8</th>\n",
       "      <td>6794858 CENTRO DE APOIO EM PATOLOGIA DE GUARAP...</td>\n",
       "      <td>2018</td>\n",
       "      <td>2.566296</td>\n",
       "      <td>1.340177</td>\n",
       "      <td>52.222222</td>\n",
       "      <td>1.270270</td>\n",
       "      <td>0.042753</td>\n",
       "    </tr>\n",
       "    <tr>\n",
       "      <th>11</th>\n",
       "      <td>6794858 CENTRO DE APOIO EM PATOLOGIA DE GUARAP...</td>\n",
       "      <td>2019</td>\n",
       "      <td>3.752949</td>\n",
       "      <td>1.844306</td>\n",
       "      <td>49.142857</td>\n",
       "      <td>1.088608</td>\n",
       "      <td>0.107112</td>\n",
       "    </tr>\n",
       "  </tbody>\n",
       "</table>\n",
       "</div>"
      ],
      "text/plain": [
       "                                            prestador   ano  \\\n",
       "1   6794858 CENTRO DE APOIO EM PATOLOGIA DE GUARAP...  2015   \n",
       "4   6794858 CENTRO DE APOIO EM PATOLOGIA DE GUARAP...  2016   \n",
       "6   6794858 CENTRO DE APOIO EM PATOLOGIA DE GUARAP...  2017   \n",
       "8   6794858 CENTRO DE APOIO EM PATOLOGIA DE GUARAP...  2018   \n",
       "11  6794858 CENTRO DE APOIO EM PATOLOGIA DE GUARAP...  2019   \n",
       "\n",
       "    indice_positividade  percentual_asc_sat  percentual_asc_alt  \\\n",
       "1              3.633630            1.879464           51.724138   \n",
       "4              4.120657            2.329653           56.535948   \n",
       "6              2.692193            1.450793           53.888889   \n",
       "8              2.566296            1.340177           52.222222   \n",
       "11             3.752949            1.844306           49.142857   \n",
       "\n",
       "    razao_asc_sil  percentual_insatisfatorio  \n",
       "1        1.351351                   0.137638  \n",
       "4        1.544643                   0.040382  \n",
       "6        1.405797                   0.164253  \n",
       "8        1.270270                   0.042753  \n",
       "11       1.088608                   0.107112  "
      ]
     },
     "execution_count": 17,
     "metadata": {},
     "output_type": "execute_result"
    }
   ],
   "source": [
    "dadosGuarapuava[['prestador', 'ano', 'indice_positividade',\n",
    "                 'percentual_asc_sat', 'percentual_asc_alt',\n",
    "                 'razao_asc_sil', 'percentual_insatisfatorio']].head(5)"
   ]
  },
  {
   "cell_type": "markdown",
   "metadata": {},
   "source": [
    "### B. Paraná\n",
    "\n",
    "Mostrando os cinco primeiros laboratórios da tabela."
   ]
  },
  {
   "cell_type": "code",
   "execution_count": 18,
   "metadata": {
    "scrolled": true
   },
   "outputs": [
    {
     "data": {
      "text/html": [
       "<div>\n",
       "<style scoped>\n",
       "    .dataframe tbody tr th:only-of-type {\n",
       "        vertical-align: middle;\n",
       "    }\n",
       "\n",
       "    .dataframe tbody tr th {\n",
       "        vertical-align: top;\n",
       "    }\n",
       "\n",
       "    .dataframe thead th {\n",
       "        text-align: right;\n",
       "    }\n",
       "</style>\n",
       "<table border=\"1\" class=\"dataframe\">\n",
       "  <thead>\n",
       "    <tr style=\"text-align: right;\">\n",
       "      <th></th>\n",
       "      <th>prestador</th>\n",
       "      <th>ano</th>\n",
       "      <th>indice_positividade</th>\n",
       "      <th>percentual_asc_sat</th>\n",
       "      <th>percentual_asc_alt</th>\n",
       "      <th>razao_asc_sil</th>\n",
       "      <th>percentual_insatisfatorio</th>\n",
       "    </tr>\n",
       "  </thead>\n",
       "  <tbody>\n",
       "    <tr>\n",
       "      <th>0</th>\n",
       "      <td>0013234 LABORATORIO DE ANALISES CLINICAS ALMIR...</td>\n",
       "      <td>2015</td>\n",
       "      <td>6.274510</td>\n",
       "      <td>4.343891</td>\n",
       "      <td>69.230769</td>\n",
       "      <td>2.880000</td>\n",
       "      <td>5.930760</td>\n",
       "    </tr>\n",
       "    <tr>\n",
       "      <th>2</th>\n",
       "      <td>0015644 HOSPITAL ERASTO GAERTNER</td>\n",
       "      <td>2015</td>\n",
       "      <td>4.307531</td>\n",
       "      <td>2.057589</td>\n",
       "      <td>47.767253</td>\n",
       "      <td>1.180602</td>\n",
       "      <td>0.809436</td>\n",
       "    </tr>\n",
       "    <tr>\n",
       "      <th>3</th>\n",
       "      <td>0015679 LABORATORIO ANALISA</td>\n",
       "      <td>2015</td>\n",
       "      <td>0.746089</td>\n",
       "      <td>0.457280</td>\n",
       "      <td>61.290323</td>\n",
       "      <td>1.900000</td>\n",
       "      <td>0.335812</td>\n",
       "    </tr>\n",
       "    <tr>\n",
       "      <th>4</th>\n",
       "      <td>0015989 LABORATORIO OSVALDO ZORNIG LTDA</td>\n",
       "      <td>2015</td>\n",
       "      <td>3.147089</td>\n",
       "      <td>1.691350</td>\n",
       "      <td>53.743316</td>\n",
       "      <td>1.511278</td>\n",
       "      <td>1.752646</td>\n",
       "    </tr>\n",
       "    <tr>\n",
       "      <th>6</th>\n",
       "      <td>0016136 PATOLOGISTAS ASSOCIADOS</td>\n",
       "      <td>2015</td>\n",
       "      <td>1.783813</td>\n",
       "      <td>1.242457</td>\n",
       "      <td>69.651741</td>\n",
       "      <td>2.434783</td>\n",
       "      <td>0.137369</td>\n",
       "    </tr>\n",
       "  </tbody>\n",
       "</table>\n",
       "</div>"
      ],
      "text/plain": [
       "                                           prestador   ano  \\\n",
       "0  0013234 LABORATORIO DE ANALISES CLINICAS ALMIR...  2015   \n",
       "2                   0015644 HOSPITAL ERASTO GAERTNER  2015   \n",
       "3                        0015679 LABORATORIO ANALISA  2015   \n",
       "4            0015989 LABORATORIO OSVALDO ZORNIG LTDA  2015   \n",
       "6                    0016136 PATOLOGISTAS ASSOCIADOS  2015   \n",
       "\n",
       "   indice_positividade  percentual_asc_sat  percentual_asc_alt  razao_asc_sil  \\\n",
       "0             6.274510            4.343891           69.230769       2.880000   \n",
       "2             4.307531            2.057589           47.767253       1.180602   \n",
       "3             0.746089            0.457280           61.290323       1.900000   \n",
       "4             3.147089            1.691350           53.743316       1.511278   \n",
       "6             1.783813            1.242457           69.651741       2.434783   \n",
       "\n",
       "   percentual_insatisfatorio  \n",
       "0                   5.930760  \n",
       "2                   0.809436  \n",
       "3                   0.335812  \n",
       "4                   1.752646  \n",
       "6                   0.137369  "
      ]
     },
     "execution_count": 18,
     "metadata": {},
     "output_type": "execute_result"
    }
   ],
   "source": [
    "dadosParana[['prestador', 'ano', 'indice_positividade',\n",
    "             'percentual_asc_sat', 'percentual_asc_alt',\n",
    "             'razao_asc_sil', 'percentual_insatisfatorio']].head(5)"
   ]
  },
  {
   "cell_type": "code",
   "execution_count": null,
   "metadata": {},
   "outputs": [],
   "source": []
  }
 ],
 "metadata": {
  "kernelspec": {
   "display_name": "Python 3",
   "language": "python",
   "name": "python3"
  },
  "language_info": {
   "codemirror_mode": {
    "name": "ipython",
    "version": 3
   },
   "file_extension": ".py",
   "mimetype": "text/x-python",
   "name": "python",
   "nbconvert_exporter": "python",
   "pygments_lexer": "ipython3",
   "version": "3.7.6"
  }
 },
 "nbformat": 4,
 "nbformat_minor": 4
}
