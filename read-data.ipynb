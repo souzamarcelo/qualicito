{
 "cells": [
  {
   "cell_type": "markdown",
   "metadata": {},
   "source": [
    "# Análise da qualidade de laboratórios de citopatologia\n",
    "## Leitura dos dados\n",
    "\n",
    "+ Período: 2015 a 2019\n",
    "+ Local: Paraná, Brasil (análise específica de Guarapuava, PR)\n",
    "+ Autor: Taize Branco dos Santos"
   ]
  },
  {
   "cell_type": "code",
   "execution_count": 1,
   "metadata": {},
   "outputs": [],
   "source": [
    "import pandas as pd\n",
    "import analysis"
   ]
  },
  {
   "cell_type": "markdown",
   "metadata": {},
   "source": [
    "## 1. Leitura dos dados e cálculo dos índices de qualidade\n",
    "\n",
    "Os índices considerados são:\n",
    "+ Índice de positividade\n",
    "+ Percentual ASC satisfatórios\n",
    "+ Percentual ASC alterados\n",
    "+ Razão ASC/SIL\n",
    "+ Percentual insatisfatórios\n",
    "\n",
    "**Filtro:** laboratório é excluído da análise se em algum ano realizou menos de `minEx` exames."
   ]
  },
  {
   "cell_type": "code",
   "execution_count": 14,
   "metadata": {},
   "outputs": [],
   "source": [
    "anos = [2015, 2016, 2017, 2018, 2019]\n",
    "minEx = 20000\n",
    "dadosGuarapuava = analysis.readData('guarapuava', anos, minEx)\n",
    "dadosParana = analysis.readData('parana', anos, minEx)"
   ]
  },
  {
   "cell_type": "markdown",
   "metadata": {},
   "source": [
    "## 2. Apresentação dos dados\n",
    "\n",
    "Mostrando o prestador de serviço, ano e os índices de qualidade.\n",
    "\n",
    "### A. Guarapuava\n",
    "\n",
    "Mostrando os cinco primeiros laboratórios da tabela."
   ]
  },
  {
   "cell_type": "code",
   "execution_count": 9,
   "metadata": {
    "scrolled": true
   },
   "outputs": [
    {
     "data": {
      "text/html": [
       "<div>\n",
       "<style scoped>\n",
       "    .dataframe tbody tr th:only-of-type {\n",
       "        vertical-align: middle;\n",
       "    }\n",
       "\n",
       "    .dataframe tbody tr th {\n",
       "        vertical-align: top;\n",
       "    }\n",
       "\n",
       "    .dataframe thead th {\n",
       "        text-align: right;\n",
       "    }\n",
       "</style>\n",
       "<table border=\"1\" class=\"dataframe\">\n",
       "  <thead>\n",
       "    <tr style=\"text-align: right;\">\n",
       "      <th></th>\n",
       "      <th>prestador</th>\n",
       "      <th>ano</th>\n",
       "      <th>indice_positividade</th>\n",
       "      <th>percentual_asc_sat</th>\n",
       "      <th>percentual_asc_alt</th>\n",
       "      <th>razao_asc_sil</th>\n",
       "      <th>percentual_insatisfatorio</th>\n",
       "    </tr>\n",
       "  </thead>\n",
       "  <tbody>\n",
       "  </tbody>\n",
       "</table>\n",
       "</div>"
      ],
      "text/plain": [
       "Empty DataFrame\n",
       "Columns: [prestador, ano, indice_positividade, percentual_asc_sat, percentual_asc_alt, razao_asc_sil, percentual_insatisfatorio]\n",
       "Index: []"
      ]
     },
     "execution_count": 9,
     "metadata": {},
     "output_type": "execute_result"
    }
   ],
   "source": [
    "dadosGuarapuava[['prestador', 'ano', 'indice_positividade',\n",
    "                 'percentual_asc_sat', 'percentual_asc_alt',\n",
    "                 'razao_asc_sil', 'percentual_insatisfatorio']].head(5)"
   ]
  },
  {
   "cell_type": "markdown",
   "metadata": {},
   "source": [
    "### B. Paraná\n",
    "\n",
    "Mostrando os cinco primeiros laboratórios da tabela."
   ]
  },
  {
   "cell_type": "code",
   "execution_count": 10,
   "metadata": {
    "scrolled": true
   },
   "outputs": [
    {
     "data": {
      "text/html": [
       "<div>\n",
       "<style scoped>\n",
       "    .dataframe tbody tr th:only-of-type {\n",
       "        vertical-align: middle;\n",
       "    }\n",
       "\n",
       "    .dataframe tbody tr th {\n",
       "        vertical-align: top;\n",
       "    }\n",
       "\n",
       "    .dataframe thead th {\n",
       "        text-align: right;\n",
       "    }\n",
       "</style>\n",
       "<table border=\"1\" class=\"dataframe\">\n",
       "  <thead>\n",
       "    <tr style=\"text-align: right;\">\n",
       "      <th></th>\n",
       "      <th>prestador</th>\n",
       "      <th>ano</th>\n",
       "      <th>indice_positividade</th>\n",
       "      <th>percentual_asc_sat</th>\n",
       "      <th>percentual_asc_alt</th>\n",
       "      <th>razao_asc_sil</th>\n",
       "      <th>percentual_insatisfatorio</th>\n",
       "    </tr>\n",
       "  </thead>\n",
       "  <tbody>\n",
       "    <tr>\n",
       "      <th>0</th>\n",
       "      <td>0013234 LABORATORIO DE ANALISES CLINICAS ALMIR...</td>\n",
       "      <td>2015</td>\n",
       "      <td>6.274510</td>\n",
       "      <td>4.343891</td>\n",
       "      <td>69.230769</td>\n",
       "      <td>2.880000</td>\n",
       "      <td>5.930760</td>\n",
       "    </tr>\n",
       "    <tr>\n",
       "      <th>2</th>\n",
       "      <td>0015644 HOSPITAL ERASTO GAERTNER</td>\n",
       "      <td>2015</td>\n",
       "      <td>4.307531</td>\n",
       "      <td>2.057589</td>\n",
       "      <td>47.767253</td>\n",
       "      <td>1.180602</td>\n",
       "      <td>0.809436</td>\n",
       "    </tr>\n",
       "    <tr>\n",
       "      <th>4</th>\n",
       "      <td>0015989 LABORATORIO OSVALDO ZORNIG LTDA</td>\n",
       "      <td>2015</td>\n",
       "      <td>3.147089</td>\n",
       "      <td>1.691350</td>\n",
       "      <td>53.743316</td>\n",
       "      <td>1.511278</td>\n",
       "      <td>1.752646</td>\n",
       "    </tr>\n",
       "    <tr>\n",
       "      <th>6</th>\n",
       "      <td>0016136 PATOLOGISTAS ASSOCIADOS</td>\n",
       "      <td>2015</td>\n",
       "      <td>1.783813</td>\n",
       "      <td>1.242457</td>\n",
       "      <td>69.651741</td>\n",
       "      <td>2.434783</td>\n",
       "      <td>0.137369</td>\n",
       "    </tr>\n",
       "    <tr>\n",
       "      <th>8</th>\n",
       "      <td>0016357 LABORATORIO ANNALAB</td>\n",
       "      <td>2015</td>\n",
       "      <td>1.572588</td>\n",
       "      <td>1.162147</td>\n",
       "      <td>73.900293</td>\n",
       "      <td>3.315789</td>\n",
       "      <td>0.257590</td>\n",
       "    </tr>\n",
       "  </tbody>\n",
       "</table>\n",
       "</div>"
      ],
      "text/plain": [
       "                                           prestador   ano  \\\n",
       "0  0013234 LABORATORIO DE ANALISES CLINICAS ALMIR...  2015   \n",
       "2                   0015644 HOSPITAL ERASTO GAERTNER  2015   \n",
       "4            0015989 LABORATORIO OSVALDO ZORNIG LTDA  2015   \n",
       "6                    0016136 PATOLOGISTAS ASSOCIADOS  2015   \n",
       "8                        0016357 LABORATORIO ANNALAB  2015   \n",
       "\n",
       "   indice_positividade  percentual_asc_sat  percentual_asc_alt  razao_asc_sil  \\\n",
       "0             6.274510            4.343891           69.230769       2.880000   \n",
       "2             4.307531            2.057589           47.767253       1.180602   \n",
       "4             3.147089            1.691350           53.743316       1.511278   \n",
       "6             1.783813            1.242457           69.651741       2.434783   \n",
       "8             1.572588            1.162147           73.900293       3.315789   \n",
       "\n",
       "   percentual_insatisfatorio  \n",
       "0                   5.930760  \n",
       "2                   0.809436  \n",
       "4                   1.752646  \n",
       "6                   0.137369  \n",
       "8                   0.257590  "
      ]
     },
     "execution_count": 10,
     "metadata": {},
     "output_type": "execute_result"
    }
   ],
   "source": [
    "dadosParana[['prestador', 'ano', 'indice_positividade',\n",
    "             'percentual_asc_sat', 'percentual_asc_alt',\n",
    "             'razao_asc_sil', 'percentual_insatisfatorio']].head(5)"
   ]
  },
  {
   "cell_type": "code",
   "execution_count": 15,
   "metadata": {},
   "outputs": [
    {
     "data": {
      "text/plain": [
       "6"
      ]
     },
     "execution_count": 15,
     "metadata": {},
     "output_type": "execute_result"
    }
   ],
   "source": [
    "len(dadosParana['prestador'].unique())\n"
   ]
  }
 ],
 "metadata": {
  "kernelspec": {
   "display_name": "Python 3",
   "language": "python",
   "name": "python3"
  },
  "language_info": {
   "codemirror_mode": {
    "name": "ipython",
    "version": 3
   },
   "file_extension": ".py",
   "mimetype": "text/x-python",
   "name": "python",
   "nbconvert_exporter": "python",
   "pygments_lexer": "ipython3",
   "version": "3.7.6"
  }
 },
 "nbformat": 4,
 "nbformat_minor": 4
}
