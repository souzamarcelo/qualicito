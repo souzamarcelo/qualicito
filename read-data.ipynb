{
 "cells": [
  {
   "cell_type": "markdown",
   "metadata": {},
   "source": [
    "# Análise da qualidade de laboratórios de citopatologia\n",
    "## Leitura dos dados\n",
    "\n",
    "+ Período: 2015 a 2019\n",
    "+ Local: Paraná, Brasil (análise específica de Guarapuava, PR)\n",
    "+ Autor: Taize Branco dos Santos"
   ]
  },
  {
   "cell_type": "code",
   "execution_count": 1,
   "metadata": {},
   "outputs": [],
   "source": [
    "import pandas as pd\n",
    "import analysis"
   ]
  },
  {
   "cell_type": "markdown",
   "metadata": {},
   "source": [
    "## 1. Leitura dos dados e cálculo dos índices de qualidade\n",
    "\n",
    "Os índices considerados são:\n",
    "+ Índice de positividade\n",
    "+ Percentual ASC satisfatórios\n",
    "+ Percentual ASC alterados\n",
    "+ Razão ASC/SIL\n",
    "+ Percentual insatisfatórios"
   ]
  },
  {
   "cell_type": "code",
   "execution_count": 2,
   "metadata": {},
   "outputs": [],
   "source": [
    "anos = [2015, 2016, 2017, 2018, 2019]\n",
    "dadosGuarapuava = analysis.readData('guarapuava', anos)\n",
    "dadosParana = analysis.readData('parana', anos)"
   ]
  },
  {
   "cell_type": "markdown",
   "metadata": {},
   "source": [
    "## 2. Apresentação dos dados\n",
    "\n",
    "Mostrando o prestador de serviço, ano e os índices de qualidade.\n",
    "\n",
    "### A. Guarapuava"
   ]
  },
  {
   "cell_type": "code",
   "execution_count": 6,
   "metadata": {
    "scrolled": true
   },
   "outputs": [
    {
     "data": {
      "text/html": [
       "<div>\n",
       "<style scoped>\n",
       "    .dataframe tbody tr th:only-of-type {\n",
       "        vertical-align: middle;\n",
       "    }\n",
       "\n",
       "    .dataframe tbody tr th {\n",
       "        vertical-align: top;\n",
       "    }\n",
       "\n",
       "    .dataframe thead th {\n",
       "        text-align: right;\n",
       "    }\n",
       "</style>\n",
       "<table border=\"1\" class=\"dataframe\">\n",
       "  <thead>\n",
       "    <tr style=\"text-align: right;\">\n",
       "      <th></th>\n",
       "      <th>prestador</th>\n",
       "      <th>ano</th>\n",
       "      <th>indice_positividade</th>\n",
       "      <th>percentual_asc_sat</th>\n",
       "      <th>percentual_asc_alt</th>\n",
       "      <th>razao_asc_sil</th>\n",
       "      <th>percentual_insatisfatorio</th>\n",
       "    </tr>\n",
       "  </thead>\n",
       "  <tbody>\n",
       "    <tr>\n",
       "      <th>0</th>\n",
       "      <td>2741989 HOSPITAL DE CARIDADE SAO VICENTE DE PAULO</td>\n",
       "      <td>2015</td>\n",
       "      <td>34.920635</td>\n",
       "      <td>6.349206</td>\n",
       "      <td>18.181818</td>\n",
       "      <td>0.363636</td>\n",
       "      <td>1.562500</td>\n",
       "    </tr>\n",
       "    <tr>\n",
       "      <th>1</th>\n",
       "      <td>6794858 CENTRO DE APOIO EM PATOLOGIA DE GUARAP...</td>\n",
       "      <td>2015</td>\n",
       "      <td>3.633630</td>\n",
       "      <td>1.879464</td>\n",
       "      <td>51.724138</td>\n",
       "      <td>1.351351</td>\n",
       "      <td>0.137638</td>\n",
       "    </tr>\n",
       "    <tr>\n",
       "      <th>2</th>\n",
       "      <td>7113358 LABORATORIO LOGOS</td>\n",
       "      <td>2015</td>\n",
       "      <td>0.000000</td>\n",
       "      <td>0.000000</td>\n",
       "      <td>NaN</td>\n",
       "      <td>NaN</td>\n",
       "      <td>0.000000</td>\n",
       "    </tr>\n",
       "    <tr>\n",
       "      <th>3</th>\n",
       "      <td>2741989 HOSPITAL DE CARIDADE SAO VICENTE DE PAULO</td>\n",
       "      <td>2016</td>\n",
       "      <td>23.239437</td>\n",
       "      <td>7.042254</td>\n",
       "      <td>30.303030</td>\n",
       "      <td>0.666667</td>\n",
       "      <td>0.699301</td>\n",
       "    </tr>\n",
       "    <tr>\n",
       "      <th>4</th>\n",
       "      <td>6794858 CENTRO DE APOIO EM PATOLOGIA DE GUARAP...</td>\n",
       "      <td>2016</td>\n",
       "      <td>4.120657</td>\n",
       "      <td>2.329653</td>\n",
       "      <td>56.535948</td>\n",
       "      <td>1.544643</td>\n",
       "      <td>0.040382</td>\n",
       "    </tr>\n",
       "  </tbody>\n",
       "</table>\n",
       "</div>"
      ],
      "text/plain": [
       "                                           prestador   ano  \\\n",
       "0  2741989 HOSPITAL DE CARIDADE SAO VICENTE DE PAULO  2015   \n",
       "1  6794858 CENTRO DE APOIO EM PATOLOGIA DE GUARAP...  2015   \n",
       "2                          7113358 LABORATORIO LOGOS  2015   \n",
       "3  2741989 HOSPITAL DE CARIDADE SAO VICENTE DE PAULO  2016   \n",
       "4  6794858 CENTRO DE APOIO EM PATOLOGIA DE GUARAP...  2016   \n",
       "\n",
       "   indice_positividade  percentual_asc_sat  percentual_asc_alt  razao_asc_sil  \\\n",
       "0            34.920635            6.349206           18.181818       0.363636   \n",
       "1             3.633630            1.879464           51.724138       1.351351   \n",
       "2             0.000000            0.000000                 NaN            NaN   \n",
       "3            23.239437            7.042254           30.303030       0.666667   \n",
       "4             4.120657            2.329653           56.535948       1.544643   \n",
       "\n",
       "   percentual_insatisfatorio  \n",
       "0                   1.562500  \n",
       "1                   0.137638  \n",
       "2                   0.000000  \n",
       "3                   0.699301  \n",
       "4                   0.040382  "
      ]
     },
     "execution_count": 6,
     "metadata": {},
     "output_type": "execute_result"
    }
   ],
   "source": [
    "dadosGuarapuava[['prestador', 'ano', 'indice_positividade',\n",
    "                 'percentual_asc_sat', 'percentual_asc_alt',\n",
    "                 'razao_asc_sil', 'percentual_insatisfatorio']].head(5)"
   ]
  },
  {
   "cell_type": "markdown",
   "metadata": {},
   "source": [
    "### B. Paraná"
   ]
  },
  {
   "cell_type": "code",
   "execution_count": 7,
   "metadata": {
    "scrolled": true
   },
   "outputs": [
    {
     "data": {
      "text/html": [
       "<div>\n",
       "<style scoped>\n",
       "    .dataframe tbody tr th:only-of-type {\n",
       "        vertical-align: middle;\n",
       "    }\n",
       "\n",
       "    .dataframe tbody tr th {\n",
       "        vertical-align: top;\n",
       "    }\n",
       "\n",
       "    .dataframe thead th {\n",
       "        text-align: right;\n",
       "    }\n",
       "</style>\n",
       "<table border=\"1\" class=\"dataframe\">\n",
       "  <thead>\n",
       "    <tr style=\"text-align: right;\">\n",
       "      <th></th>\n",
       "      <th>prestador</th>\n",
       "      <th>ano</th>\n",
       "      <th>indice_positividade</th>\n",
       "      <th>percentual_asc_sat</th>\n",
       "      <th>percentual_asc_alt</th>\n",
       "      <th>razao_asc_sil</th>\n",
       "      <th>percentual_insatisfatorio</th>\n",
       "    </tr>\n",
       "  </thead>\n",
       "  <tbody>\n",
       "    <tr>\n",
       "      <th>0</th>\n",
       "      <td>0013234 LABORATORIO DE ANALISES CLINICAS ALMIR...</td>\n",
       "      <td>2015</td>\n",
       "      <td>6.274510</td>\n",
       "      <td>4.343891</td>\n",
       "      <td>69.230769</td>\n",
       "      <td>2.880000</td>\n",
       "      <td>5.930760</td>\n",
       "    </tr>\n",
       "    <tr>\n",
       "      <th>1</th>\n",
       "      <td>0015334 HOSPITAL SANTA CASA DE CURITIBA</td>\n",
       "      <td>2015</td>\n",
       "      <td>3.265306</td>\n",
       "      <td>0.408163</td>\n",
       "      <td>12.500000</td>\n",
       "      <td>0.250000</td>\n",
       "      <td>0.000000</td>\n",
       "    </tr>\n",
       "    <tr>\n",
       "      <th>2</th>\n",
       "      <td>0015644 HOSPITAL ERASTO GAERTNER</td>\n",
       "      <td>2015</td>\n",
       "      <td>4.307531</td>\n",
       "      <td>2.057589</td>\n",
       "      <td>47.767253</td>\n",
       "      <td>1.180602</td>\n",
       "      <td>0.809436</td>\n",
       "    </tr>\n",
       "    <tr>\n",
       "      <th>3</th>\n",
       "      <td>0015679 LABORATORIO ANALISA</td>\n",
       "      <td>2015</td>\n",
       "      <td>0.746089</td>\n",
       "      <td>0.457280</td>\n",
       "      <td>61.290323</td>\n",
       "      <td>1.900000</td>\n",
       "      <td>0.335812</td>\n",
       "    </tr>\n",
       "    <tr>\n",
       "      <th>4</th>\n",
       "      <td>0015989 LABORATORIO OSVALDO ZORNIG LTDA</td>\n",
       "      <td>2015</td>\n",
       "      <td>3.147089</td>\n",
       "      <td>1.691350</td>\n",
       "      <td>53.743316</td>\n",
       "      <td>1.511278</td>\n",
       "      <td>1.752646</td>\n",
       "    </tr>\n",
       "  </tbody>\n",
       "</table>\n",
       "</div>"
      ],
      "text/plain": [
       "                                           prestador   ano  \\\n",
       "0  0013234 LABORATORIO DE ANALISES CLINICAS ALMIR...  2015   \n",
       "1            0015334 HOSPITAL SANTA CASA DE CURITIBA  2015   \n",
       "2                   0015644 HOSPITAL ERASTO GAERTNER  2015   \n",
       "3                        0015679 LABORATORIO ANALISA  2015   \n",
       "4            0015989 LABORATORIO OSVALDO ZORNIG LTDA  2015   \n",
       "\n",
       "   indice_positividade  percentual_asc_sat  percentual_asc_alt  razao_asc_sil  \\\n",
       "0             6.274510            4.343891           69.230769       2.880000   \n",
       "1             3.265306            0.408163           12.500000       0.250000   \n",
       "2             4.307531            2.057589           47.767253       1.180602   \n",
       "3             0.746089            0.457280           61.290323       1.900000   \n",
       "4             3.147089            1.691350           53.743316       1.511278   \n",
       "\n",
       "   percentual_insatisfatorio  \n",
       "0                   5.930760  \n",
       "1                   0.000000  \n",
       "2                   0.809436  \n",
       "3                   0.335812  \n",
       "4                   1.752646  "
      ]
     },
     "execution_count": 7,
     "metadata": {},
     "output_type": "execute_result"
    }
   ],
   "source": [
    "dadosParana[['prestador', 'ano', 'indice_positividade',\n",
    "             'percentual_asc_sat', 'percentual_asc_alt',\n",
    "             'razao_asc_sil', 'percentual_insatisfatorio']].head(5)"
   ]
  }
 ],
 "metadata": {
  "kernelspec": {
   "display_name": "Python 3",
   "language": "python",
   "name": "python3"
  },
  "language_info": {
   "codemirror_mode": {
    "name": "ipython",
    "version": 3
   },
   "file_extension": ".py",
   "mimetype": "text/x-python",
   "name": "python",
   "nbconvert_exporter": "python",
   "pygments_lexer": "ipython3",
   "version": "3.7.6"
  }
 },
 "nbformat": 4,
 "nbformat_minor": 4
}
