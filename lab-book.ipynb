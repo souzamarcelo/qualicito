{
 "cells": [
  {
   "cell_type": "markdown",
   "metadata": {},
   "source": [
    "# Lab book: qualidade de laboratórios de citopatologia\n",
    "\n",
    "Taize Branco dos Santos"
   ]
  },
  {
   "cell_type": "code",
   "execution_count": 1,
   "metadata": {},
   "outputs": [],
   "source": [
    "%matplotlib inline\n",
    "import pandas as pd\n",
    "import analysis"
   ]
  },
  {
   "cell_type": "markdown",
   "metadata": {},
   "source": [
    "## 1. Leitura dos dados e cálculo dos índices de qualidade\n",
    "\n",
    "+ Fonte: http://tabnet.datasus.gov.br/cgi/dhdat.exe?SISCAN/cito_colo_atendbr.def\n",
    "+ Estados: Rio Grande do Sul (RS), Santa Catarina (SC) e Paraná (PR)\n",
    "+ Período: 2015 a 2019\n",
    "\n",
    "**Índices:**\n",
    "+ Índice de positividade (`ind_pos`)\n",
    "+ Percentual de ASC entre exames satisfatórios (`per_asc_sat`)\n",
    "+ Percentual de ASC entre exames alterados (`per_asc_alt`)\n",
    "+ Razão ASC/(LSIL + HSIL) (`raz_asc_sil`)\n",
    "+ Percentual de HSIL entre exames satisfatórios (`per_hsil`)\n",
    "+ Percentual de exames insatisfatórios (`per_ins`)\n",
    "\n",
    "**Filtro:**\n",
    "+ Seja $x_a$ o número de exames realizados pelo laboratório $x$ no ano $a$.\n",
    "+ Os dados do laboratório $x$ em um determinado ano $a$ são contabilizados somente se $x_a \\ge m$.\n",
    "+ Parâmetro: $m = 1500$.\n",
    "+ Exemplo: se um laboratório fez $1000$ exames em 2015 e $2200$ exames em 2016, seus dados não serão contabilizados no ano de 2015, mas serão contabilizados em 2016."
   ]
  },
  {
   "cell_type": "code",
   "execution_count": 2,
   "metadata": {},
   "outputs": [],
   "source": [
    "dados = analysis.leituraDados(['rs', 'sc', 'pr'], [2015, 2016, 2017, 2018, 2019])"
   ]
  },
  {
   "cell_type": "code",
   "execution_count": 5,
   "metadata": {},
   "outputs": [
    {
     "name": "stdout",
     "output_type": "stream",
     "text": [
      "No período de 2015 a 2019:\n",
      "\t- Total de laboratórios: 187 (RS: 63; SC: 62; PR: 62)\n",
      "\t- Esses laboratórios fizeram um total de 7546672 exames (RS: 2013903; SC: 2139073; PR: 3393696)\n"
     ]
    }
   ],
   "source": [
    "print('No período de 2015 a 2019:')\n",
    "analysis.printLabsExames(dados)"
   ]
  },
  {
   "cell_type": "code",
   "execution_count": 7,
   "metadata": {},
   "outputs": [],
   "source": [
    "dados = analysis.filtraDados(dados, 1500)"
   ]
  },
  {
   "cell_type": "code",
   "execution_count": 8,
   "metadata": {},
   "outputs": [
    {
     "name": "stdout",
     "output_type": "stream",
     "text": [
      "Após a filtragem:\n",
      "\t- Total de laboratórios: 162 (RS: 56; SC: 50; PR: 56)\n",
      "\t- Esses laboratórios fizeram um total de 7486712 exames (RS: 1993835; SC: 2110398; PR: 3382479)\n"
     ]
    }
   ],
   "source": [
    "print('Após a filtragem:')\n",
    "analysis.printLabsExames(dados)"
   ]
  },
  {
   "cell_type": "markdown",
   "metadata": {},
   "source": [
    "## 2. Estatística descritiva básica\n",
    "\n",
    "Mostrando estatísticas básicas sobre o conjunto de dados."
   ]
  },
  {
   "cell_type": "code",
   "execution_count": null,
   "metadata": {},
   "outputs": [],
   "source": [
    "pd.options.display.float_format = \"{:.1f}\".format\n",
    "dados[['ex_total', 'ex_sat', 'ex_ins', 'asc_total', 'sil_total', 'ind_pos', 'per_asc_sat',\n",
    "       'per_asc_alt', 'raz_asc_sil', 'per_hsil', 'per_ins', 'estado']].describe()"
   ]
  },
  {
   "cell_type": "markdown",
   "metadata": {},
   "source": [
    "## 3. Laboratórios"
   ]
  },
  {
   "cell_type": "markdown",
   "metadata": {},
   "source": [
    "Mostrando a quantidade de laboratórios por estado em cada ano."
   ]
  },
  {
   "cell_type": "code",
   "execution_count": null,
   "metadata": {},
   "outputs": [],
   "source": [
    "pd.options.display.float_format = \"{:.0f}\".format\n",
    "analysis.quantidadeLaboratorios(dados)"
   ]
  },
  {
   "cell_type": "markdown",
   "metadata": {},
   "source": [
    "## 4. Exames realizados"
   ]
  },
  {
   "cell_type": "markdown",
   "metadata": {},
   "source": [
    "Mostrando a quantidade de exames realizados por estado em cada ano."
   ]
  },
  {
   "cell_type": "code",
   "execution_count": null,
   "metadata": {},
   "outputs": [],
   "source": [
    "pd.options.display.float_format = \"{:.0f}\".format\n",
    "analysis.quantidadeExames(dados)"
   ]
  },
  {
   "cell_type": "markdown",
   "metadata": {},
   "source": [
    "## 5. Indicadores de qualidade\n",
    "\n",
    "Mostrando a mediana de cada indicador de qualidade por estado em cada ano."
   ]
  },
  {
   "cell_type": "code",
   "execution_count": null,
   "metadata": {},
   "outputs": [],
   "source": [
    "pd.options.display.float_format = \"{:.1f}\".format\n",
    "analysis.tabelaIndicadores(dados, 'median')"
   ]
  },
  {
   "cell_type": "markdown",
   "metadata": {},
   "source": [
    "## 6. Análise\n",
    "\n",
    "### 6.1. Indicadores ao longo do tempo\n",
    "\n",
    "Mostrando a evolução dos estados segundo os indicadores de qualidade no período analisado."
   ]
  },
  {
   "cell_type": "code",
   "execution_count": null,
   "metadata": {},
   "outputs": [],
   "source": [
    "analysis.plotIndicadores(dados, 'median')"
   ]
  },
  {
   "cell_type": "markdown",
   "metadata": {},
   "source": [
    "### 6.2. Correlação entre indicadores\n",
    "\n",
    "Mostrando o índice de positividade *versus* o percentual de ASC entre exames alterados (**todo o período**)."
   ]
  },
  {
   "cell_type": "code",
   "execution_count": null,
   "metadata": {},
   "outputs": [],
   "source": [
    "analysis.plotCorrelacao(dados, 'ind_pos', 'per_asc_alt', [2, 3, 10], [60])"
   ]
  },
  {
   "cell_type": "markdown",
   "metadata": {},
   "source": [
    "Mostrando o índice de positividade *versus* o percentual de ASC entre exames alterados (**ano de 2017**)."
   ]
  },
  {
   "cell_type": "code",
   "execution_count": null,
   "metadata": {},
   "outputs": [],
   "source": [
    "analysis.plotCorrelacao(dados[dados['ano'] == '2017'], 'ind_pos', 'per_asc_alt', [2, 3, 10], [60])"
   ]
  }
 ],
 "metadata": {
  "kernelspec": {
   "display_name": "Python 3",
   "language": "python",
   "name": "python3"
  },
  "language_info": {
   "codemirror_mode": {
    "name": "ipython",
    "version": 3
   },
   "file_extension": ".py",
   "mimetype": "text/x-python",
   "name": "python",
   "nbconvert_exporter": "python",
   "pygments_lexer": "ipython3",
   "version": "3.6.9"
  }
 },
 "nbformat": 4,
 "nbformat_minor": 4
}
